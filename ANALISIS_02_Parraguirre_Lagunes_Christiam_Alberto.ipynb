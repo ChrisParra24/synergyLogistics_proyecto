{
 "cells": [
  {
   "cell_type": "code",
   "execution_count": 1,
   "metadata": {},
   "outputs": [],
   "source": [
    "import pandas as pd"
   ]
  },
  {
   "cell_type": "markdown",
   "metadata": {},
   "source": [
    "Lectura del archivo CSV"
   ]
  },
  {
   "cell_type": "code",
   "execution_count": 2,
   "metadata": {},
   "outputs": [],
   "source": [
    "mi_db = pd.read_csv('synergy_logistics_database.csv')"
   ]
  },
  {
   "cell_type": "markdown",
   "metadata": {},
   "source": [
    "Obtencion de los años"
   ]
  },
  {
   "cell_type": "code",
   "execution_count": 3,
   "metadata": {},
   "outputs": [],
   "source": [
    "años = mi_db.get('year').unique()"
   ]
  },
  {
   "cell_type": "markdown",
   "metadata": {},
   "source": [
    "Separacion de las exportaciones e importaciones"
   ]
  },
  {
   "cell_type": "code",
   "execution_count": 4,
   "metadata": {},
   "outputs": [],
   "source": [
    "exportaciones = mi_db[mi_db['direction'] == 'Exports']\n",
    "exportaciones = exportaciones[exportaciones['total_value'] != 0]\n",
    "importaciones = mi_db[mi_db['direction'] == 'Imports']\n",
    "importaciones = importaciones[importaciones['total_value'] != 0]"
   ]
  },
  {
   "cell_type": "markdown",
   "metadata": {},
   "source": [
    "Obtener las 10 rutas mas demandadas en exportaciones"
   ]
  },
  {
   "cell_type": "code",
   "execution_count": 5,
   "metadata": {},
   "outputs": [],
   "source": [
    "rutas_exportaciones = exportaciones.groupby(['origin','destination','transport_mode','year']).count().sort_values(by=['total_value'],ascending=False)\n",
    "diccionario_años = {}\n",
    "for año in años:\n",
    "    if año not in diccionario_años.keys():\n",
    "        diccionario_años[año] = []\n",
    "        for row in rutas_exportaciones.itertuples():\n",
    "            if row[0][3] == año:\n",
    "                tupla = (row[0][0],row[0][1],row[0][2],row[1])\n",
    "                diccionario_años[año].append(tupla)"
   ]
  },
  {
   "cell_type": "code",
   "execution_count": 6,
   "metadata": {},
   "outputs": [],
   "source": [
    "diccionario_10_rutas = {}\n",
    "for año in diccionario_años.keys():\n",
    "    diccionario_10_rutas[año] = diccionario_años[año][0:10]"
   ]
  },
  {
   "cell_type": "markdown",
   "metadata": {},
   "source": [
    "Impresión de las 10 rutas mas demandadas por año"
   ]
  },
  {
   "cell_type": "code",
   "execution_count": 7,
   "metadata": {},
   "outputs": [
    {
     "data": {
      "text/html": [
       "<div>\n",
       "<style scoped>\n",
       "    .dataframe tbody tr th:only-of-type {\n",
       "        vertical-align: middle;\n",
       "    }\n",
       "\n",
       "    .dataframe tbody tr th {\n",
       "        vertical-align: top;\n",
       "    }\n",
       "\n",
       "    .dataframe thead th {\n",
       "        text-align: right;\n",
       "    }\n",
       "</style>\n",
       "<table border=\"1\" class=\"dataframe\">\n",
       "  <thead>\n",
       "    <tr style=\"text-align: right;\">\n",
       "      <th></th>\n",
       "      <th>2015</th>\n",
       "      <th>2016</th>\n",
       "      <th>2017</th>\n",
       "      <th>2018</th>\n",
       "      <th>2019</th>\n",
       "      <th>2020</th>\n",
       "    </tr>\n",
       "  </thead>\n",
       "  <tbody>\n",
       "    <tr>\n",
       "      <th>0</th>\n",
       "      <td>(South Korea, Vietnam, Sea, 146)</td>\n",
       "      <td>(USA, Belgium, Sea, 143)</td>\n",
       "      <td>(Mexico, New Zealand, Sea, 147)</td>\n",
       "      <td>(USA, Mexico, Rail, 136)</td>\n",
       "      <td>(South Korea, Vietnam, Sea, 152)</td>\n",
       "      <td>(Netherlands, Belgium, Road, 154)</td>\n",
       "    </tr>\n",
       "    <tr>\n",
       "      <th>1</th>\n",
       "      <td>(Netherlands, Belgium, Road, 129)</td>\n",
       "      <td>(Germany, France, Road, 113)</td>\n",
       "      <td>(USA, Netherlands, Sea, 140)</td>\n",
       "      <td>(Japan, Canada, Air, 128)</td>\n",
       "      <td>(China, Mexico, Air, 145)</td>\n",
       "      <td>(South Korea, Vietnam, Sea, 152)</td>\n",
       "    </tr>\n",
       "    <tr>\n",
       "      <th>2</th>\n",
       "      <td>(Japan, Brazil, Sea, 111)</td>\n",
       "      <td>(China, Spain, Air, 105)</td>\n",
       "      <td>(South Korea, Japan, Sea, 139)</td>\n",
       "      <td>(China, South Korea, Rail, 124)</td>\n",
       "      <td>(United Kingdom, Ireland, Sea, 115)</td>\n",
       "      <td>(Canada, Mexico, Rail, 152)</td>\n",
       "    </tr>\n",
       "    <tr>\n",
       "      <th>3</th>\n",
       "      <td>(USA, Canada, Road, 110)</td>\n",
       "      <td>(Russia, Netherlands, Sea, 95)</td>\n",
       "      <td>(China, Spain, Air, 119)</td>\n",
       "      <td>(Japan, China, Sea, 108)</td>\n",
       "      <td>(United Kingdom, Spain, Sea, 104)</td>\n",
       "      <td>(China, Rusia, Rail, 134)</td>\n",
       "    </tr>\n",
       "    <tr>\n",
       "      <th>4</th>\n",
       "      <td>(Singapore, USA, Sea, 81)</td>\n",
       "      <td>(South Korea, Japan, Sea, 93)</td>\n",
       "      <td>(India, United Arab Emirates, Sea, 115)</td>\n",
       "      <td>(Mexico, Singapore, Sea, 105)</td>\n",
       "      <td>(Netherlands, France, Road, 102)</td>\n",
       "      <td>(Japan, Brazil, Sea, 127)</td>\n",
       "    </tr>\n",
       "    <tr>\n",
       "      <th>5</th>\n",
       "      <td>(China, Argentina, Air, 78)</td>\n",
       "      <td>(India, China, Rail, 82)</td>\n",
       "      <td>(China, Germany, Air, 97)</td>\n",
       "      <td>(Russia, Belorussia, Rail, 101)</td>\n",
       "      <td>(Germany, Mexico, Sea, 93)</td>\n",
       "      <td>(China, Mexico, Air, 114)</td>\n",
       "    </tr>\n",
       "    <tr>\n",
       "      <th>6</th>\n",
       "      <td>(Germany, USA, Sea, 74)</td>\n",
       "      <td>(Mexico, New Zealand, Sea, 76)</td>\n",
       "      <td>(Brazil, Mexico, Sea, 92)</td>\n",
       "      <td>(France, United Kingdom, Sea, 96)</td>\n",
       "      <td>(France, Belgium, Road, 91)</td>\n",
       "      <td>(USA, Argentina, Sea, 93)</td>\n",
       "    </tr>\n",
       "    <tr>\n",
       "      <th>7</th>\n",
       "      <td>(Germany, South Korea, Sea, 73)</td>\n",
       "      <td>(France, USA, Sea, 76)</td>\n",
       "      <td>(Australia, Brazil, Sea, 71)</td>\n",
       "      <td>(Australia, Thailand, Sea, 76)</td>\n",
       "      <td>(Russia, China, Road, 87)</td>\n",
       "      <td>(Germany, Brazil, Air, 79)</td>\n",
       "    </tr>\n",
       "    <tr>\n",
       "      <th>8</th>\n",
       "      <td>(USA, Netherlands, Sea, 71)</td>\n",
       "      <td>(Australia, United Kingdom, Sea, 71)</td>\n",
       "      <td>(Russia, Germany, Sea, 69)</td>\n",
       "      <td>(USA, Netherlands, Sea, 74)</td>\n",
       "      <td>(Australia, Singapore, Sea, 72)</td>\n",
       "      <td>(United Kingdom, Belgium, Sea, 79)</td>\n",
       "    </tr>\n",
       "    <tr>\n",
       "      <th>9</th>\n",
       "      <td>(Canada, USA, Rail, 66)</td>\n",
       "      <td>(Canada, China, Sea, 63)</td>\n",
       "      <td>(USA, Belgium, Sea, 67)</td>\n",
       "      <td>(China, Belgium, Air, 71)</td>\n",
       "      <td>(China, Japan, Sea, 70)</td>\n",
       "      <td>(United Kingdom, Spain, Sea, 72)</td>\n",
       "    </tr>\n",
       "  </tbody>\n",
       "</table>\n",
       "</div>"
      ],
      "text/plain": [
       "                                2015                                  2016  \\\n",
       "0   (South Korea, Vietnam, Sea, 146)              (USA, Belgium, Sea, 143)   \n",
       "1  (Netherlands, Belgium, Road, 129)          (Germany, France, Road, 113)   \n",
       "2          (Japan, Brazil, Sea, 111)              (China, Spain, Air, 105)   \n",
       "3           (USA, Canada, Road, 110)        (Russia, Netherlands, Sea, 95)   \n",
       "4          (Singapore, USA, Sea, 81)         (South Korea, Japan, Sea, 93)   \n",
       "5        (China, Argentina, Air, 78)              (India, China, Rail, 82)   \n",
       "6            (Germany, USA, Sea, 74)        (Mexico, New Zealand, Sea, 76)   \n",
       "7    (Germany, South Korea, Sea, 73)                (France, USA, Sea, 76)   \n",
       "8        (USA, Netherlands, Sea, 71)  (Australia, United Kingdom, Sea, 71)   \n",
       "9            (Canada, USA, Rail, 66)              (Canada, China, Sea, 63)   \n",
       "\n",
       "                                      2017                               2018  \\\n",
       "0          (Mexico, New Zealand, Sea, 147)           (USA, Mexico, Rail, 136)   \n",
       "1             (USA, Netherlands, Sea, 140)          (Japan, Canada, Air, 128)   \n",
       "2           (South Korea, Japan, Sea, 139)    (China, South Korea, Rail, 124)   \n",
       "3                 (China, Spain, Air, 119)           (Japan, China, Sea, 108)   \n",
       "4  (India, United Arab Emirates, Sea, 115)      (Mexico, Singapore, Sea, 105)   \n",
       "5                (China, Germany, Air, 97)    (Russia, Belorussia, Rail, 101)   \n",
       "6                (Brazil, Mexico, Sea, 92)  (France, United Kingdom, Sea, 96)   \n",
       "7             (Australia, Brazil, Sea, 71)     (Australia, Thailand, Sea, 76)   \n",
       "8               (Russia, Germany, Sea, 69)        (USA, Netherlands, Sea, 74)   \n",
       "9                  (USA, Belgium, Sea, 67)          (China, Belgium, Air, 71)   \n",
       "\n",
       "                                  2019                                2020  \n",
       "0     (South Korea, Vietnam, Sea, 152)   (Netherlands, Belgium, Road, 154)  \n",
       "1            (China, Mexico, Air, 145)    (South Korea, Vietnam, Sea, 152)  \n",
       "2  (United Kingdom, Ireland, Sea, 115)         (Canada, Mexico, Rail, 152)  \n",
       "3    (United Kingdom, Spain, Sea, 104)           (China, Rusia, Rail, 134)  \n",
       "4     (Netherlands, France, Road, 102)           (Japan, Brazil, Sea, 127)  \n",
       "5           (Germany, Mexico, Sea, 93)           (China, Mexico, Air, 114)  \n",
       "6          (France, Belgium, Road, 91)           (USA, Argentina, Sea, 93)  \n",
       "7            (Russia, China, Road, 87)          (Germany, Brazil, Air, 79)  \n",
       "8      (Australia, Singapore, Sea, 72)  (United Kingdom, Belgium, Sea, 79)  \n",
       "9              (China, Japan, Sea, 70)    (United Kingdom, Spain, Sea, 72)  "
      ]
     },
     "execution_count": 7,
     "metadata": {},
     "output_type": "execute_result"
    }
   ],
   "source": [
    "pd.DataFrame(data=diccionario_10_rutas)"
   ]
  },
  {
   "cell_type": "markdown",
   "metadata": {},
   "source": [
    "Obtención de las 10 rutas mas demandadas de importaciones"
   ]
  },
  {
   "cell_type": "code",
   "execution_count": 8,
   "metadata": {},
   "outputs": [],
   "source": [
    "rutas_importaciones = importaciones.groupby(['origin','destination','transport_mode','year']).count().sort_values(by=['total_value'],ascending=False)\n",
    "diccionario_años = {}\n",
    "for año in años:\n",
    "    if año not in diccionario_años.keys():\n",
    "        diccionario_años[año] = []\n",
    "        for row in rutas_importaciones.itertuples():\n",
    "            if row[0][3] == año:\n",
    "                tupla = (row[0][0],row[0][1],row[0][2],row[1])\n",
    "                diccionario_años[año].append(tupla)"
   ]
  },
  {
   "cell_type": "code",
   "execution_count": 9,
   "metadata": {},
   "outputs": [],
   "source": [
    "diccionario_10_rutas = {}\n",
    "for año in diccionario_años.keys():\n",
    "    diccionario_10_rutas[año] = diccionario_años[año][0:10]"
   ]
  },
  {
   "cell_type": "code",
   "execution_count": 10,
   "metadata": {},
   "outputs": [
    {
     "data": {
      "text/html": [
       "<div>\n",
       "<style scoped>\n",
       "    .dataframe tbody tr th:only-of-type {\n",
       "        vertical-align: middle;\n",
       "    }\n",
       "\n",
       "    .dataframe tbody tr th {\n",
       "        vertical-align: top;\n",
       "    }\n",
       "\n",
       "    .dataframe thead th {\n",
       "        text-align: right;\n",
       "    }\n",
       "</style>\n",
       "<table border=\"1\" class=\"dataframe\">\n",
       "  <thead>\n",
       "    <tr style=\"text-align: right;\">\n",
       "      <th></th>\n",
       "      <th>2015</th>\n",
       "      <th>2016</th>\n",
       "      <th>2017</th>\n",
       "      <th>2018</th>\n",
       "      <th>2019</th>\n",
       "      <th>2020</th>\n",
       "    </tr>\n",
       "  </thead>\n",
       "  <tbody>\n",
       "    <tr>\n",
       "      <th>0</th>\n",
       "      <td>(Singapore, Thailand, Sea, 78)</td>\n",
       "      <td>(Australia, Japan, Sea, 102)</td>\n",
       "      <td>(France, Poland, Rail, 65)</td>\n",
       "      <td>(Mexico, China, Sea, 85)</td>\n",
       "      <td>(Germany, China, Sea, 152)</td>\n",
       "      <td>(Singapore, Thailand, Sea, 85)</td>\n",
       "    </tr>\n",
       "    <tr>\n",
       "      <th>1</th>\n",
       "      <td>(Mexico, USA, Rail, 75)</td>\n",
       "      <td>(Spain, Germany, Road, 60)</td>\n",
       "      <td>(Germany, Mexico, Sea, 63)</td>\n",
       "      <td>(Japan, Mexico, Sea, 83)</td>\n",
       "      <td>(China, Japan, Air, 80)</td>\n",
       "      <td>(Brazil, China, Sea, 66)</td>\n",
       "    </tr>\n",
       "    <tr>\n",
       "      <th>2</th>\n",
       "      <td>(France, Germany, Road, 75)</td>\n",
       "      <td>(Japan, Mexico, Sea, 51)</td>\n",
       "      <td>(USA, Canada, Rail, 60)</td>\n",
       "      <td>(Mexico, Japan, Sea, 61)</td>\n",
       "      <td>(Japan, United Arab Emirates, Sea, 62)</td>\n",
       "      <td>(China, Thailand, Road, 48)</td>\n",
       "    </tr>\n",
       "    <tr>\n",
       "      <th>3</th>\n",
       "      <td>(Malaysia, Thailand, Rail, 63)</td>\n",
       "      <td>(Singapore, Thailand, Sea, 49)</td>\n",
       "      <td>(Italy, Poland, Rail, 56)</td>\n",
       "      <td>(China, Japan, Air, 51)</td>\n",
       "      <td>(Singapore, Thailand, Sea, 61)</td>\n",
       "      <td>(USA, China, Air, 45)</td>\n",
       "    </tr>\n",
       "    <tr>\n",
       "      <th>4</th>\n",
       "      <td>(China, Thailand, Road, 62)</td>\n",
       "      <td>(China, Singapore, Sea, 41)</td>\n",
       "      <td>(United Kingdom, Canada, Sea, 54)</td>\n",
       "      <td>(China, United Arab Emirates, Sea, 39)</td>\n",
       "      <td>(South Korea, United Arab Emirates, Sea, 49)</td>\n",
       "      <td>(China, United Arab Emirates, Sea, 34)</td>\n",
       "    </tr>\n",
       "    <tr>\n",
       "      <th>5</th>\n",
       "      <td>(USA, Thailand, Sea, 50)</td>\n",
       "      <td>(Mexico, Canada, Sea, 39)</td>\n",
       "      <td>(Malaysia, Thailand, Rail, 53)</td>\n",
       "      <td>(Germany, China, Sea, 38)</td>\n",
       "      <td>(Russia, India, Sea, 42)</td>\n",
       "      <td>(Malaysia, Thailand, Rail, 32)</td>\n",
       "    </tr>\n",
       "    <tr>\n",
       "      <th>6</th>\n",
       "      <td>(Spain, Germany, Road, 49)</td>\n",
       "      <td>(China, Thailand, Rail, 35)</td>\n",
       "      <td>(Japan, Mexico, Sea, 47)</td>\n",
       "      <td>(Canada, USA, Road, 32)</td>\n",
       "      <td>(China, United Arab Emirates, Sea, 41)</td>\n",
       "      <td>(Germany, India, Sea, 30)</td>\n",
       "    </tr>\n",
       "    <tr>\n",
       "      <th>7</th>\n",
       "      <td>(South Korea, Germany, Air, 29)</td>\n",
       "      <td>(China, Japan, Air, 35)</td>\n",
       "      <td>(South Korea, Mexico, Sea, 39)</td>\n",
       "      <td>(Mexico, USA, Road, 29)</td>\n",
       "      <td>(USA, India, Sea, 30)</td>\n",
       "      <td>(USA, Thailand, Sea, 28)</td>\n",
       "    </tr>\n",
       "    <tr>\n",
       "      <th>8</th>\n",
       "      <td>(Japan, Thailand, Sea, 27)</td>\n",
       "      <td>(Japan, Canada, Sea, 33)</td>\n",
       "      <td>(Japan, Canada, Sea, 32)</td>\n",
       "      <td>(Mexico, Germany, Sea, 28)</td>\n",
       "      <td>(Brazil, China, Sea, 29)</td>\n",
       "      <td>(USA, India, Sea, 27)</td>\n",
       "    </tr>\n",
       "    <tr>\n",
       "      <th>9</th>\n",
       "      <td>(USA, Germany, Air, 25)</td>\n",
       "      <td>(Malaysia, Thailand, Rail, 33)</td>\n",
       "      <td>(China, Japan, Air, 32)</td>\n",
       "      <td>(Italy, Mexico, Sea, 28)</td>\n",
       "      <td>(Japan, Mexico, Sea, 19)</td>\n",
       "      <td>(Spain, Germany, Road, 25)</td>\n",
       "    </tr>\n",
       "  </tbody>\n",
       "</table>\n",
       "</div>"
      ],
      "text/plain": [
       "                              2015                            2016  \\\n",
       "0   (Singapore, Thailand, Sea, 78)    (Australia, Japan, Sea, 102)   \n",
       "1          (Mexico, USA, Rail, 75)      (Spain, Germany, Road, 60)   \n",
       "2      (France, Germany, Road, 75)        (Japan, Mexico, Sea, 51)   \n",
       "3   (Malaysia, Thailand, Rail, 63)  (Singapore, Thailand, Sea, 49)   \n",
       "4      (China, Thailand, Road, 62)     (China, Singapore, Sea, 41)   \n",
       "5         (USA, Thailand, Sea, 50)       (Mexico, Canada, Sea, 39)   \n",
       "6       (Spain, Germany, Road, 49)     (China, Thailand, Rail, 35)   \n",
       "7  (South Korea, Germany, Air, 29)         (China, Japan, Air, 35)   \n",
       "8       (Japan, Thailand, Sea, 27)        (Japan, Canada, Sea, 33)   \n",
       "9          (USA, Germany, Air, 25)  (Malaysia, Thailand, Rail, 33)   \n",
       "\n",
       "                                2017                                    2018  \\\n",
       "0         (France, Poland, Rail, 65)                (Mexico, China, Sea, 85)   \n",
       "1         (Germany, Mexico, Sea, 63)                (Japan, Mexico, Sea, 83)   \n",
       "2            (USA, Canada, Rail, 60)                (Mexico, Japan, Sea, 61)   \n",
       "3          (Italy, Poland, Rail, 56)                 (China, Japan, Air, 51)   \n",
       "4  (United Kingdom, Canada, Sea, 54)  (China, United Arab Emirates, Sea, 39)   \n",
       "5     (Malaysia, Thailand, Rail, 53)               (Germany, China, Sea, 38)   \n",
       "6           (Japan, Mexico, Sea, 47)                 (Canada, USA, Road, 32)   \n",
       "7     (South Korea, Mexico, Sea, 39)                 (Mexico, USA, Road, 29)   \n",
       "8           (Japan, Canada, Sea, 32)              (Mexico, Germany, Sea, 28)   \n",
       "9            (China, Japan, Air, 32)                (Italy, Mexico, Sea, 28)   \n",
       "\n",
       "                                           2019  \\\n",
       "0                    (Germany, China, Sea, 152)   \n",
       "1                       (China, Japan, Air, 80)   \n",
       "2        (Japan, United Arab Emirates, Sea, 62)   \n",
       "3                (Singapore, Thailand, Sea, 61)   \n",
       "4  (South Korea, United Arab Emirates, Sea, 49)   \n",
       "5                      (Russia, India, Sea, 42)   \n",
       "6        (China, United Arab Emirates, Sea, 41)   \n",
       "7                         (USA, India, Sea, 30)   \n",
       "8                      (Brazil, China, Sea, 29)   \n",
       "9                      (Japan, Mexico, Sea, 19)   \n",
       "\n",
       "                                     2020  \n",
       "0          (Singapore, Thailand, Sea, 85)  \n",
       "1                (Brazil, China, Sea, 66)  \n",
       "2             (China, Thailand, Road, 48)  \n",
       "3                   (USA, China, Air, 45)  \n",
       "4  (China, United Arab Emirates, Sea, 34)  \n",
       "5          (Malaysia, Thailand, Rail, 32)  \n",
       "6               (Germany, India, Sea, 30)  \n",
       "7                (USA, Thailand, Sea, 28)  \n",
       "8                   (USA, India, Sea, 27)  \n",
       "9              (Spain, Germany, Road, 25)  "
      ]
     },
     "execution_count": 10,
     "metadata": {},
     "output_type": "execute_result"
    }
   ],
   "source": [
    "pd.DataFrame(data=diccionario_10_rutas)"
   ]
  },
  {
   "cell_type": "markdown",
   "metadata": {},
   "source": [
    "Obtención de medios de transporte mas importantes en exportaciones"
   ]
  },
  {
   "cell_type": "code",
   "execution_count": 11,
   "metadata": {},
   "outputs": [
    {
     "data": {
      "text/plain": [
       "Sea     1.093210e+10\n",
       "Rail    5.750840e+09\n",
       "Air     5.464191e+09\n",
       "Road    4.546748e+09\n",
       "dtype: float64"
      ]
     },
     "execution_count": 11,
     "metadata": {},
     "output_type": "execute_result"
    }
   ],
   "source": [
    "valores_transporte = exportaciones.groupby(['transport_mode','year']).sum().reset_index()\n",
    "medios_transporte = valores_transporte.get('transport_mode').unique()\n",
    "diccionario = {}\n",
    "for medio_transporte in medios_transporte:\n",
    "    promedio = valores_transporte[valores_transporte['transport_mode'] == medio_transporte].total_value.mean()\n",
    "    if medio_transporte not in diccionario.keys():\n",
    "        diccionario[medio_transporte] = promedio\n",
    "pd.Series(data=diccionario).sort_values(ascending=False)\n"
   ]
  },
  {
   "cell_type": "markdown",
   "metadata": {},
   "source": [
    "Obtención de medios de transporte mas importantes en importaciones"
   ]
  },
  {
   "cell_type": "code",
   "execution_count": 12,
   "metadata": {},
   "outputs": [
    {
     "data": {
      "text/plain": [
       "Sea     5.823000e+09\n",
       "Rail    1.520500e+09\n",
       "Road    1.198000e+09\n",
       "Air     9.128333e+08\n",
       "dtype: float64"
      ]
     },
     "execution_count": 12,
     "metadata": {},
     "output_type": "execute_result"
    }
   ],
   "source": [
    "valores_transporte = importaciones.groupby(['transport_mode','year']).sum().reset_index()\n",
    "diccionario = {}\n",
    "for medio_transporte in medios_transporte:\n",
    "    promedio = valores_transporte[valores_transporte['transport_mode'] == medio_transporte].total_value.mean()\n",
    "    if medio_transporte not in diccionario.keys():\n",
    "        diccionario[medio_transporte] = promedio\n",
    "pd.Series(data=diccionario).sort_values(ascending=False)"
   ]
  },
  {
   "cell_type": "markdown",
   "metadata": {},
   "source": [
    "Obtencion de 80% de valor total de importaciones y exportaciones"
   ]
  },
  {
   "cell_type": "markdown",
   "metadata": {},
   "source": [
    "Exportaciones"
   ]
  },
  {
   "cell_type": "code",
   "execution_count": 13,
   "metadata": {},
   "outputs": [],
   "source": [
    "variable_temp = exportaciones.groupby(['year','origin','destination']).total_value.sum()"
   ]
  },
  {
   "cell_type": "code",
   "execution_count": 14,
   "metadata": {},
   "outputs": [],
   "source": [
    "variable_temp = variable_temp.reset_index()"
   ]
  },
  {
   "cell_type": "code",
   "execution_count": 15,
   "metadata": {},
   "outputs": [
    {
     "name": "stderr",
     "output_type": "stream",
     "text": [
      "/tmp/ipykernel_22211/2379383866.py:5: SettingWithCopyWarning: \n",
      "A value is trying to be set on a copy of a slice from a DataFrame.\n",
      "Try using .loc[row_indexer,col_indexer] = value instead\n",
      "\n",
      "See the caveats in the documentation: https://pandas.pydata.org/pandas-docs/stable/user_guide/indexing.html#returning-a-view-versus-a-copy\n",
      "  data_temp['pct'] = (data_temp.total_value * 100) / ingresos_totales_año\n"
     ]
    }
   ],
   "source": [
    "for año in años:\n",
    "    nombre_archivo = f'paises_generan_80_por_ciento_{año}.csv'\n",
    "    data_temp = variable_temp[variable_temp['year'] == año]\n",
    "    ingresos_totales_año = data_temp.total_value.sum()\n",
    "    data_temp['pct'] = (data_temp.total_value * 100) / ingresos_totales_año\n",
    "    data_temp = data_temp.sort_values(by=['pct'],ascending=False)\n",
    "    data_temp['pct_acum'] = data_temp.pct.cumsum()\n",
    "    data_temp = data_temp[data_temp['pct_acum'] < 80]\n",
    "    data_temp.to_csv(nombre_archivo)"
   ]
  },
  {
   "cell_type": "markdown",
   "metadata": {},
   "source": [
    "Importaciones"
   ]
  },
  {
   "cell_type": "code",
   "execution_count": 16,
   "metadata": {},
   "outputs": [],
   "source": [
    "variable_temp = importaciones.groupby(['year','origin','destination']).total_value.sum()"
   ]
  },
  {
   "cell_type": "code",
   "execution_count": 17,
   "metadata": {},
   "outputs": [],
   "source": [
    "variable_temp = variable_temp.reset_index()"
   ]
  },
  {
   "cell_type": "code",
   "execution_count": 18,
   "metadata": {},
   "outputs": [
    {
     "name": "stderr",
     "output_type": "stream",
     "text": [
      "/tmp/ipykernel_22211/1231483617.py:5: SettingWithCopyWarning: \n",
      "A value is trying to be set on a copy of a slice from a DataFrame.\n",
      "Try using .loc[row_indexer,col_indexer] = value instead\n",
      "\n",
      "See the caveats in the documentation: https://pandas.pydata.org/pandas-docs/stable/user_guide/indexing.html#returning-a-view-versus-a-copy\n",
      "  data_temp['pct'] = (data_temp.total_value * 100) / ingresos_totales_año\n"
     ]
    }
   ],
   "source": [
    "for año in años:\n",
    "    nombre_archivo = f'paises_generan_80_por_ciento_{año}_importaciones.csv'\n",
    "    data_temp = variable_temp[variable_temp['year'] == año]\n",
    "    ingresos_totales_año = data_temp.total_value.sum()\n",
    "    data_temp['pct'] = (data_temp.total_value * 100) / ingresos_totales_año\n",
    "    data_temp = data_temp.sort_values(by=['pct'],ascending=False)\n",
    "    data_temp['pct_acum'] = data_temp.pct.cumsum()\n",
    "    data_temp = data_temp[data_temp['pct_acum'] < 80]\n",
    "    data_temp.to_csv(nombre_archivo)"
   ]
  }
 ],
 "metadata": {
  "interpreter": {
   "hash": "0916254389bac2de18fbcaceabac59e7c4bf136b96822702e7958c2b047c1beb"
  },
  "kernelspec": {
   "display_name": "Python 3.9.7 ('base')",
   "language": "python",
   "name": "python3"
  },
  "language_info": {
   "codemirror_mode": {
    "name": "ipython",
    "version": 3
   },
   "file_extension": ".py",
   "mimetype": "text/x-python",
   "name": "python",
   "nbconvert_exporter": "python",
   "pygments_lexer": "ipython3",
   "version": "3.9.7"
  },
  "orig_nbformat": 4
 },
 "nbformat": 4,
 "nbformat_minor": 2
}
